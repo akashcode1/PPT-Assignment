{
 "cells": [
  {
   "cell_type": "markdown",
   "id": "a24bb959",
   "metadata": {},
   "source": [
    "## QUESTION 1-"
   ]
  },
  {
   "cell_type": "code",
   "execution_count": 24,
   "id": "928c116e",
   "metadata": {},
   "outputs": [
    {
     "name": "stdout",
     "output_type": "stream",
     "text": [
      "0 1\n"
     ]
    }
   ],
   "source": [
    "nums = [2,7,11,15]\n",
    "target = 9\n",
    "for i in range(len(nums)-1):\n",
    "    for j in range(i,len(nums)-1):\n",
    "        if nums[i]+nums[j]==target:\n",
    "            print(i,j)\n",
    "#TimeComplexity O(n)Square\n",
    "#SpaceComplexity O(1)"
   ]
  },
  {
   "cell_type": "markdown",
   "id": "16f263ee",
   "metadata": {},
   "source": [
    "## Question 2-"
   ]
  },
  {
   "cell_type": "code",
   "execution_count": 42,
   "id": "9b4f6193",
   "metadata": {},
   "outputs": [],
   "source": [
    "\n",
    "def removeElement(nums, val):\n",
    "    k = 0\n",
    "    for i in range(len(nums)):\n",
    "        if nums[i] != val:\n",
    "            nums[k] = nums[i]\n",
    "            k += 1\n",
    "    return k"
   ]
  },
  {
   "cell_type": "code",
   "execution_count": 45,
   "id": "914f442b",
   "metadata": {},
   "outputs": [
    {
     "name": "stdout",
     "output_type": "stream",
     "text": [
      "2\n",
      "[2, 2]\n"
     ]
    }
   ],
   "source": [
    "nums = [3, 2, 2, 3]\n",
    "val = 3\n",
    "\n",
    "result = removeElement(nums, val)\n",
    "print(result) \n",
    "print(nums[:result])  \n",
    "#Timecomplexity O(n)\n",
    "#Spacecomplexity O(1)"
   ]
  },
  {
   "cell_type": "markdown",
   "id": "afd55bec",
   "metadata": {},
   "source": [
    "## Question 3-"
   ]
  },
  {
   "cell_type": "code",
   "execution_count": 49,
   "id": "aef30d4f",
   "metadata": {},
   "outputs": [
    {
     "name": "stdout",
     "output_type": "stream",
     "text": [
      "0\n"
     ]
    }
   ],
   "source": [
    "def search(nums, target):\n",
    "    left = 0\n",
    "    right = len(nums) - 1\n",
    "    \n",
    "    while left <= right:\n",
    "        mid = left + (right - left)\n",
    "        \n",
    "        if nums[mid] == target:\n",
    "            return mid\n",
    "        elif nums[mid] < target:\n",
    "            left = mid + 1\n",
    "        else:\n",
    "            right = mid - 1\n",
    "    \n",
    "    return left\n",
    "\n",
    "\n",
    "nums = [1,3,5,6]\n",
    "target = 1 \n",
    "result=search(nums,target)\n",
    "print(result)\n",
    "#Timecomplexity O(log n)\n",
    "#Spacecomplexity O(1)"
   ]
  },
  {
   "cell_type": "markdown",
   "id": "2f2bcaff",
   "metadata": {},
   "source": [
    "## Question 4-"
   ]
  },
  {
   "cell_type": "code",
   "execution_count": 52,
   "id": "9cadc1e0",
   "metadata": {},
   "outputs": [],
   "source": [
    "def plusOne(digits):\n",
    "     \n",
    "    for i in range(len(digits)-1, -1, -1):\n",
    "        digits[i] += 1\n",
    "            \n",
    "        if digits[i] < 10:\n",
    "            return digits\n",
    "        digits[i] = 0\n",
    "    \n",
    "    digits.insert(0, 1)\n",
    "    \n",
    "    return digits\n"
   ]
  },
  {
   "cell_type": "code",
   "execution_count": 56,
   "id": "7544640b",
   "metadata": {},
   "outputs": [
    {
     "name": "stdout",
     "output_type": "stream",
     "text": [
      "[1, 2, 4]\n"
     ]
    }
   ],
   "source": [
    "digits = [1, 2, 3]\n",
    "result = plusOne(digits)\n",
    "print(result)  \n",
    "#Timecomplexity O(log n)\n",
    "#Spacecomplexity O(1)"
   ]
  },
  {
   "cell_type": "markdown",
   "id": "26ee45a8",
   "metadata": {},
   "source": [
    "## Question 5-"
   ]
  },
  {
   "cell_type": "code",
   "execution_count": 78,
   "id": "6bc2de74",
   "metadata": {},
   "outputs": [],
   "source": [
    "def merge(nums1, m, nums2, n):\n",
    "    p1 = m - 1\n",
    "    p2 = n - 1\n",
    "    p = m + n - 1\n",
    "    \n",
    "    while p1 >= 0 and p2 >= 0:\n",
    "        if nums1[p1] > nums2[p2]:\n",
    "            nums1[p] = nums1[p1]\n",
    "            p1 -= 1\n",
    "        else:\n",
    "            nums1[p] = nums2[p2]\n",
    "            p2 -= 1\n",
    "        p -= 1\n",
    "    \n",
    "    # Copy remaining elements from nums2 to nums1\n",
    "    nums1[:p2 + 1] = nums2[:p2 + 1]\n",
    "    return nums1\n"
   ]
  },
  {
   "cell_type": "code",
   "execution_count": 80,
   "id": "5c098f1d",
   "metadata": {},
   "outputs": [
    {
     "name": "stdout",
     "output_type": "stream",
     "text": [
      "[1, 2, 2, 3, 5, 6]\n"
     ]
    }
   ],
   "source": [
    "nums1 = [1,2,3,0,0,0]\n",
    "m = 3\n",
    "nums2 = [2,5,6]\n",
    "n = 3\n",
    "result=merge(nums1, m, nums2, n)\n",
    "print(result)\n",
    "#Time complexity: O(m + n)\n",
    "#Space complexity: O(1)"
   ]
  },
  {
   "cell_type": "markdown",
   "id": "58d4c070",
   "metadata": {},
   "source": [
    "## Question 6-"
   ]
  },
  {
   "cell_type": "code",
   "execution_count": 90,
   "id": "50180001",
   "metadata": {},
   "outputs": [],
   "source": [
    "def search(nums):\n",
    "    n=len(nums)-1\n",
    "    for i in range(n):\n",
    "        if nums[i]==nums[n-i]:\n",
    "            return True\n",
    "    return False"
   ]
  },
  {
   "cell_type": "code",
   "execution_count": 93,
   "id": "0efb6f28",
   "metadata": {},
   "outputs": [
    {
     "name": "stdout",
     "output_type": "stream",
     "text": [
      "True\n"
     ]
    }
   ],
   "source": [
    "nums = [1,2,3,1]\n",
    "result=search(nums)\n",
    "print(result)\n",
    "#Time complexity: O(n)\n",
    "#Space complexity: O(1)"
   ]
  },
  {
   "cell_type": "markdown",
   "id": "d90226bc",
   "metadata": {},
   "source": [
    "## Question 7-"
   ]
  },
  {
   "cell_type": "code",
   "execution_count": 99,
   "id": "851df7dd",
   "metadata": {},
   "outputs": [],
   "source": [
    "def moveZeros(nums):\n",
    "    zero_count = 0 \n",
    "    \n",
    "    for i in range(len(nums)):\n",
    "        if nums[i] == 0:\n",
    "            zero_count += 1\n",
    "        else:\n",
    "            nums[i - zero_count] = nums[i]\n",
    "    \n",
    "    for i in range(len(nums) - zero_count, len(nums)):\n",
    "        nums[i] = 0\n",
    "    return nums\n",
    "        \n",
    "    \n"
   ]
  },
  {
   "cell_type": "code",
   "execution_count": 100,
   "id": "bfe342a1",
   "metadata": {},
   "outputs": [
    {
     "name": "stdout",
     "output_type": "stream",
     "text": [
      "[1, 3, 12, 0, 0]\n"
     ]
    }
   ],
   "source": [
    "nums = [0,1,0,3,12]\n",
    "ans=moveZeros(nums)\n",
    "print(ans)\n",
    "#Time complexity: O(n)\n",
    "#Space complexity: O(1)"
   ]
  },
  {
   "cell_type": "markdown",
   "id": "47efc186",
   "metadata": {},
   "source": [
    "## Question 8-"
   ]
  },
  {
   "cell_type": "code",
   "execution_count": 102,
   "id": "f279b7e4",
   "metadata": {},
   "outputs": [],
   "source": [
    "def findErrorNums(nums):\n",
    "    n = len(nums)\n",
    "    nums_set = set()\n",
    "    duplicate = -1\n",
    "\n",
    "    # Find the duplicate number\n",
    "    for num in nums:\n",
    "        if num in nums_set:\n",
    "            duplicate = num\n",
    "            break\n",
    "        nums_set.add(num)\n",
    "\n",
    "    # Find the missing number\n",
    "    missing = -1\n",
    "    for i in range(1, n+1):\n",
    "        if i not in nums_set:\n",
    "            missing = i\n",
    "            break\n",
    "\n",
    "    return [duplicate, missing]\n"
   ]
  },
  {
   "cell_type": "code",
   "execution_count": 103,
   "id": "38ec1829",
   "metadata": {},
   "outputs": [
    {
     "name": "stdout",
     "output_type": "stream",
     "text": [
      "[2, 3]\n"
     ]
    }
   ],
   "source": [
    "nums= [1,2,2,4]\n",
    "result=findErrorNums(nums)\n",
    "print(result)\n",
    "\n",
    "#Time complexity: O(n)\n",
    "#Space complexity: O(n)"
   ]
  }
 ],
 "metadata": {
  "kernelspec": {
   "display_name": "Python 3 (ipykernel)",
   "language": "python",
   "name": "python3"
  },
  "language_info": {
   "codemirror_mode": {
    "name": "ipython",
    "version": 3
   },
   "file_extension": ".py",
   "mimetype": "text/x-python",
   "name": "python",
   "nbconvert_exporter": "python",
   "pygments_lexer": "ipython3",
   "version": "3.9.13"
  }
 },
 "nbformat": 4,
 "nbformat_minor": 5
}
