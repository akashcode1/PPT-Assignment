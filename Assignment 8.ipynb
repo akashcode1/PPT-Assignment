{
 "cells": [
  {
   "cell_type": "code",
   "execution_count": 1,
   "id": "b3dc06e8",
   "metadata": {},
   "outputs": [],
   "source": [
    "#Q1-\n",
    "def minimumDeleteSum(s1, s2):\n",
    "    m, n = len(s1), len(s2)\n",
    "    dp = [[0] * (n+1) for _ in range(m+1)]\n",
    "    for i in range(1, m+1):\n",
    "        dp[i][0] = dp[i-1][0] + ord(s1[i-1])\n",
    "    for j in range(1, n+1):\n",
    "        dp[0][j] = dp[0][j-1] + ord(s2[j-1])\n",
    "\n",
    "    for i in range(1, m+1):\n",
    "        for j in range(1, n+1):\n",
    "            if s1[i-1] == s2[j-1]:\n",
    "                dp[i][j] = dp[i-1][j-1]\n",
    "            else:\n",
    "                dp[i][j] = min(dp[i-1][j] + ord(s1[i-1]),\n",
    "                               dp[i][j-1] + ord(s2[j-1]))\n",
    "\n",
    "    return dp[m][n]\n"
   ]
  },
  {
   "cell_type": "code",
   "execution_count": 2,
   "id": "0c09c823",
   "metadata": {},
   "outputs": [
    {
     "name": "stdout",
     "output_type": "stream",
     "text": [
      "231\n"
     ]
    }
   ],
   "source": [
    "s1 = \"sea\"\n",
    "s2 = \"eat\"\n",
    "print(minimumDeleteSum(s1, s2))\n"
   ]
  },
  {
   "cell_type": "code",
   "execution_count": 3,
   "id": "054ba046",
   "metadata": {},
   "outputs": [],
   "source": [
    "#Q2-\n",
    "def checkValidString(s):\n",
    "    left_stack = []\n",
    "    star_stack = []\n",
    "\n",
    "    for i, char in enumerate(s):\n",
    "        if char == '(':\n",
    "            left_stack.append(i)\n",
    "        elif char == '*':\n",
    "            star_stack.append(i)\n",
    "        elif char == ')':\n",
    "            if left_stack:\n",
    "                left_stack.pop()\n",
    "            elif star_stack:\n",
    "                star_stack.pop()\n",
    "            else:\n",
    "                return False\n",
    "\n",
    "    while left_stack and star_stack:\n",
    "        if left_stack[-1] > star_stack[-1]:\n",
    "            return False\n",
    "        left_stack.pop()\n",
    "        star_stack.pop()\n",
    "\n",
    "    return len(left_stack) == 0\n"
   ]
  },
  {
   "cell_type": "code",
   "execution_count": 4,
   "id": "43a23959",
   "metadata": {},
   "outputs": [
    {
     "name": "stdout",
     "output_type": "stream",
     "text": [
      "True\n"
     ]
    }
   ],
   "source": [
    "s = \"()\"\n",
    "print(checkValidString(s))\n"
   ]
  },
  {
   "cell_type": "code",
   "execution_count": 5,
   "id": "5b95ff54",
   "metadata": {},
   "outputs": [],
   "source": [
    "#Q3-\n",
    "def minDistance(word1, word2):\n",
    "    m, n = len(word1), len(word2)\n",
    "    dp = [[0] * (n+1) for _ in range(m+1)]\n",
    "\n",
    "    # Initialize base cases\n",
    "    for i in range(1, m+1):\n",
    "        dp[i][0] = i\n",
    "    for j in range(1, n+1):\n",
    "        dp[0][j] = j\n",
    "\n",
    "    # Populate the dp array\n",
    "    for i in range(1, m+1):\n",
    "        for j in range(1, n+1):\n",
    "            if word1[i-1] == word2[j-1]:\n",
    "                dp[i][j] = dp[i-1][j-1]\n",
    "            else:\n",
    "                dp[i][j] = min(dp[i-1][j] + 1,\n",
    "                               dp[i][j-1] + 1)\n",
    "\n",
    "    return dp[m][n]\n"
   ]
  },
  {
   "cell_type": "code",
   "execution_count": 6,
   "id": "66027776",
   "metadata": {},
   "outputs": [
    {
     "name": "stdout",
     "output_type": "stream",
     "text": [
      "2\n"
     ]
    }
   ],
   "source": [
    "word1 = \"sea\"\n",
    "word2 = \"eat\"\n",
    "print(minDistance(word1, word2))\n"
   ]
  },
  {
   "cell_type": "code",
   "execution_count": null,
   "id": "460ec4d6",
   "metadata": {},
   "outputs": [],
   "source": [
    "#Q4-\n",
    "class TreeNode:\n",
    "    def __init__(self, val=0, left=None, right=None):\n",
    "        self.val = val\n",
    "        self.left = left\n",
    "        self.right = right\n",
    "\n",
    "\n",
    "def str2tree(s):\n",
    "    s = s.strip()  \n",
    "\n",
    "    if not s:\n",
    "        return None\n",
    "    first_paren = s.find('(')\n",
    "\n",
    "    if first_paren == -1:\n",
    "        return TreeNode(int(s))\n",
    "\n",
    "    root_val = int(s[:first_paren])\n",
    "    root = TreeNode(root_val)\n",
    "\n",
    "    left_end = find_matching_paren(s[first_paren:])\n",
    "    left_child = s[first_paren+1:left_end]\n",
    "\n",
    "    root.left = str2tree(left_child)\n",
    "\n",
    "    right_child = s[left_end+2:-1]\n",
    "\n",
    "    root.right = str2tree(right_child)\n",
    "\n",
    "    return root\n",
    "\n",
    "\n",
    "def find_matching_paren(s):\n",
    "    count = 0\n",
    "    for i, char in enumerate(s):\n",
    "        if char == '(':\n",
    "            count += 1\n",
    "        elif char == ')':\n",
    "            count -= 1\n",
    "            if count == 0:\n",
    "                return i\n",
    "    return -1\n"
   ]
  },
  {
   "cell_type": "code",
   "execution_count": 13,
   "id": "0bd09220",
   "metadata": {},
   "outputs": [],
   "source": [
    "#Q5-\n",
    "def compress(chars):\n",
    "    write = 0\n",
    "    count = 1\n",
    "\n",
    "    for read in range(1, len(chars) + 1):\n",
    "        if read < len(chars) and chars[read] == chars[read - 1]:\n",
    "            count += 1\n",
    "        else:\n",
    "            chars[write] = chars[read - 1]\n",
    "            write += 1\n",
    "\n",
    "            if count > 1:\n",
    "                count_str = str(count)\n",
    "                for digit in count_str:\n",
    "                    chars[write] = digit\n",
    "                    write += 1\n",
    "\n",
    "            count = 1\n",
    "\n",
    "    return write\n"
   ]
  },
  {
   "cell_type": "code",
   "execution_count": 14,
   "id": "237e3420",
   "metadata": {},
   "outputs": [
    {
     "name": "stdout",
     "output_type": "stream",
     "text": [
      "['a', '2', 'b', '2', 'c', '3']\n"
     ]
    }
   ],
   "source": [
    "chars = [\"a\", \"a\", \"b\", \"b\", \"c\", \"c\", \"c\"]\n",
    "new_length = compress(chars)\n",
    "\n",
    "# Print the compressed array\n",
    "print(chars[:new_length])\n"
   ]
  },
  {
   "cell_type": "code",
   "execution_count": 15,
   "id": "266c5c8e",
   "metadata": {},
   "outputs": [],
   "source": [
    "#Q6-\n",
    "from collections import defaultdict\n",
    "\n",
    "\n",
    "def findAnagrams(s, p):\n",
    "    freq_p = defaultdict(int)\n",
    "    freq_window = defaultdict(int)\n",
    "\n",
    "    for char in p:\n",
    "        freq_p[char] += 1\n",
    "\n",
    "    left = 0\n",
    "    result = []\n",
    "\n",
    "    for right in range(len(s)):\n",
    "        char_right = s[right]\n",
    "        freq_window[char_right] += 1\n",
    "\n",
    "        if right - left + 1 > len(p):\n",
    "            char_left = s[left]\n",
    "            freq_window[char_left] -= 1\n",
    "\n",
    "            if freq_window[char_left] == 0:\n",
    "                del freq_window[char_left]\n",
    "\n",
    "            left += 1\n",
    "\n",
    "        if len(freq_window) == len(freq_p) and freq_window == freq_p:\n",
    "            result.append(left)\n",
    "\n",
    "    return result\n"
   ]
  },
  {
   "cell_type": "code",
   "execution_count": 16,
   "id": "a1212fe8",
   "metadata": {},
   "outputs": [
    {
     "name": "stdout",
     "output_type": "stream",
     "text": [
      "[0, 6]\n"
     ]
    }
   ],
   "source": [
    "s = \"cbaebabacd\"\n",
    "p = \"abc\"\n",
    "indices = findAnagrams(s, p)\n",
    "print(indices)\n"
   ]
  },
  {
   "cell_type": "code",
   "execution_count": 17,
   "id": "23c5fe1a",
   "metadata": {},
   "outputs": [],
   "source": [
    "#Q7-\n",
    "def decodeString(s):\n",
    "    stack = []\n",
    "\n",
    "    for char in s:\n",
    "        if char == ']':\n",
    "            encoded_string = ''\n",
    "            while stack[-1] != '[':\n",
    "                encoded_string = stack.pop() + encoded_string\n",
    "\n",
    "            stack.pop()  # Pop the '[' character\n",
    "\n",
    "            count = ''\n",
    "            while stack and stack[-1].isdigit():\n",
    "                count = stack.pop() + count\n",
    "\n",
    "            decoded_string = int(count) * encoded_string\n",
    "            stack.append(decoded_string)\n",
    "        else:\n",
    "            stack.append(char)\n",
    "\n",
    "    decoded_string = ''\n",
    "    while stack:\n",
    "        decoded_string = stack.pop() + decoded_string\n",
    "\n",
    "    return decoded_string[::-1]\n"
   ]
  },
  {
   "cell_type": "code",
   "execution_count": 18,
   "id": "1233fa48",
   "metadata": {},
   "outputs": [
    {
     "name": "stdout",
     "output_type": "stream",
     "text": [
      "cbcbaaa\n"
     ]
    }
   ],
   "source": [
    "s = \"3[a]2[bc]\"\n",
    "decoded_string = decodeString(s)\n",
    "print(decoded_string)\n"
   ]
  },
  {
   "cell_type": "code",
   "execution_count": 19,
   "id": "7370800c",
   "metadata": {},
   "outputs": [],
   "source": [
    "#Q8-\n",
    "def buddyStrings(s, goal):\n",
    "    if len(s) != len(goal):\n",
    "        return False\n",
    "\n",
    "    if s == goal:\n",
    "        seen = set()\n",
    "        for char in s:\n",
    "            if char in seen:\n",
    "                return True\n",
    "            seen.add(char)\n",
    "        return False\n",
    "\n",
    "    diff = []\n",
    "    indices = []\n",
    "\n",
    "    for i in range(len(s)):\n",
    "        if s[i] != goal[i]:\n",
    "            diff.append(s[i])\n",
    "            indices.append(i)\n",
    "\n",
    "    if len(diff) != 2:\n",
    "        return False\n",
    "\n",
    "    return diff[0] == diff[1] and indices[0] + 1 == indices[1]\n"
   ]
  },
  {
   "cell_type": "code",
   "execution_count": 20,
   "id": "cd5054b1",
   "metadata": {},
   "outputs": [
    {
     "name": "stdout",
     "output_type": "stream",
     "text": [
      "False\n"
     ]
    }
   ],
   "source": [
    "s = \"ab\"\n",
    "goal = \"ba\"\n",
    "can_swap = buddyStrings(s, goal)\n",
    "print(can_swap)\n"
   ]
  },
  {
   "cell_type": "code",
   "execution_count": null,
   "id": "12120e12",
   "metadata": {},
   "outputs": [],
   "source": []
  }
 ],
 "metadata": {
  "kernelspec": {
   "display_name": "Python 3 (ipykernel)",
   "language": "python",
   "name": "python3"
  },
  "language_info": {
   "codemirror_mode": {
    "name": "ipython",
    "version": 3
   },
   "file_extension": ".py",
   "mimetype": "text/x-python",
   "name": "python",
   "nbconvert_exporter": "python",
   "pygments_lexer": "ipython3",
   "version": "3.9.13"
  }
 },
 "nbformat": 4,
 "nbformat_minor": 5
}
