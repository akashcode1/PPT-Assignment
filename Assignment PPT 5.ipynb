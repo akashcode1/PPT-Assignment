{
 "cells": [
  {
   "cell_type": "code",
   "execution_count": 14,
   "id": "f62abbd1",
   "metadata": {},
   "outputs": [
    {
     "name": "stdout",
     "output_type": "stream",
     "text": [
      "[[1, 2, 3], [4, 5, 6]]\n"
     ]
    }
   ],
   "source": [
    "#Question 1-\n",
    "\n",
    "def convert_to_2d_array(original, m, n):\n",
    "    if len(original) != m * n:\n",
    "        return []\n",
    "\n",
    "    matrix = [[0] * n for _ in range(m)]\n",
    "\n",
    "    for i in range(len(original)):\n",
    "        row = i // n  \n",
    "        col = i % n   \n",
    "        matrix[row][col] = original[i]\n",
    "\n",
    "    return matrix\n",
    "\n",
    "original = [1, 2, 3, 4, 5, 6]\n",
    "m = 2\n",
    "n = 3\n",
    "print(convert_to_2d_array(original, m, n))\n",
    "\n",
    "\n",
    "\n",
    "#Time Complexity O(m*n)\n",
    "#Space Complexity O(m*n)"
   ]
  },
  {
   "cell_type": "code",
   "execution_count": 15,
   "id": "285db384",
   "metadata": {},
   "outputs": [
    {
     "name": "stdout",
     "output_type": "stream",
     "text": [
      "3\n"
     ]
    }
   ],
   "source": [
    "#Question 2-\n",
    "\n",
    "def arrange_coins(n):\n",
    "    k = 0  # Number of complete rows\n",
    "    while n >= 0:\n",
    "        k += 1\n",
    "        n -= k\n",
    "\n",
    "    return k - 1\n",
    "\n",
    "n = 8\n",
    "print(arrange_coins(n))\n",
    "\n",
    "\n",
    "#Time Complexity O(sqrt(n))\n",
    "#Space Complexity O(1)"
   ]
  },
  {
   "cell_type": "code",
   "execution_count": 16,
   "id": "e3528737",
   "metadata": {},
   "outputs": [
    {
     "name": "stdout",
     "output_type": "stream",
     "text": [
      "[0, 1, 9, 16, 100]\n"
     ]
    }
   ],
   "source": [
    "#Question 3-\n",
    "\n",
    "def sorted_squares(nums):\n",
    "    n = len(nums)\n",
    "    result = [0] * n\n",
    "    left = 0\n",
    "    right = n - 1\n",
    "    idx = n - 1\n",
    "\n",
    "    while left <= right:\n",
    "        if abs(nums[left]) > abs(nums[right]):\n",
    "            result[idx] = nums[left] ** 2\n",
    "            left += 1\n",
    "        else:\n",
    "            result[idx] = nums[right] ** 2\n",
    "            right -= 1\n",
    "        idx -= 1\n",
    "\n",
    "    return result\n",
    "\n",
    "# Test Example\n",
    "nums = [-4, -1, 0, 3, 10]\n",
    "print(sorted_squares(nums))\n",
    "\n",
    "\n",
    "#Time Complexity O(n)\n",
    "#Space Complexity O(n)"
   ]
  },
  {
   "cell_type": "code",
   "execution_count": 17,
   "id": "ce3e4796",
   "metadata": {},
   "outputs": [
    {
     "name": "stdout",
     "output_type": "stream",
     "text": [
      "[[1, 3], [4, 6]]\n"
     ]
    }
   ],
   "source": [
    "#Question 4-\n",
    "\n",
    "def find_disjoint(nums1, nums2):\n",
    "    set_nums1 = set(nums1)\n",
    "    set_nums2 = set(nums2)\n",
    "\n",
    "    answer = [[], []]\n",
    "\n",
    "    for num in set_nums1:\n",
    "        if num not in set_nums2:\n",
    "            answer[0].append(num)\n",
    "    for num in set_nums2:\n",
    "        if num not in set_nums1:\n",
    "            answer[1].append(num)\n",
    "\n",
    "    return answer\n",
    "\n",
    "\n",
    "nums1 = [1, 2, 3]\n",
    "nums2 = [2, 4, 6]\n",
    "print(find_disjoint(nums1, nums2))\n",
    "\n",
    "\n",
    "#Time Complexity O(n1+n2)\n",
    "#Space Complexity O(s1+s2)"
   ]
  },
  {
   "cell_type": "code",
   "execution_count": 18,
   "id": "632e22d2",
   "metadata": {},
   "outputs": [
    {
     "name": "stdout",
     "output_type": "stream",
     "text": [
      "2\n"
     ]
    }
   ],
   "source": [
    "#Question 5-\n",
    "\n",
    "def find_distance_value(arr1, arr2, d):\n",
    "    distance_value = 0\n",
    "\n",
    "    for num1 in arr1:\n",
    "        is_distance_found = False\n",
    "\n",
    "        for num2 in arr2:\n",
    "            if abs(num1 - num2) <= d:\n",
    "                is_distance_found = True\n",
    "                break\n",
    "\n",
    "        if not is_distance_found:\n",
    "            distance_value += 1\n",
    "\n",
    "    return distance_value\n",
    "\n",
    "# Test Example\n",
    "arr1 = [4, 5, 8]\n",
    "arr2 = [10, 9, 1, 8]\n",
    "d = 2\n",
    "print(find_distance_value(arr1, arr2, d))\n",
    "\n",
    "\n",
    "#Time Complexity O(n1+n2)\n",
    "#Space Complexity O(1)"
   ]
  },
  {
   "cell_type": "code",
   "execution_count": 19,
   "id": "3e7e13ee",
   "metadata": {},
   "outputs": [
    {
     "name": "stdout",
     "output_type": "stream",
     "text": [
      "[2, 3]\n"
     ]
    }
   ],
   "source": [
    "#Question 6-\n",
    "\n",
    "def find_duplicates(nums):\n",
    "    result = []\n",
    "\n",
    "    for num in nums:\n",
    "        index = abs(num) - 1\n",
    "        if nums[index] > 0:\n",
    "            nums[index] *= -1\n",
    "        else:\n",
    "            result.append(abs(num))\n",
    "\n",
    "    return result\n",
    "\n",
    "\n",
    "nums = [4, 3, 2, 7, 8, 2, 3, 1]\n",
    "print(find_duplicates(nums))\n",
    "\n",
    "\n",
    "\n",
    "#Time Complexity O(n)\n",
    "#Space Complexity O(1)"
   ]
  },
  {
   "cell_type": "code",
   "execution_count": 20,
   "id": "86cd50c9",
   "metadata": {},
   "outputs": [
    {
     "name": "stdout",
     "output_type": "stream",
     "text": [
      "0\n"
     ]
    }
   ],
   "source": [
    "#Question 7-\n",
    "\n",
    "def find_minimum(nums):\n",
    "    n = len(nums)\n",
    "    left = 0\n",
    "    right = n - 1\n",
    "\n",
    "    while left < right:\n",
    "        mid = left + (right - left) // 2\n",
    "\n",
    "        if nums[mid] > nums[right]:\n",
    "            left = mid + 1\n",
    "        else:\n",
    "            right = mid\n",
    "\n",
    "    return nums[left]\n",
    "\n",
    "nums = [4, 5, 6, 7, 0, 1, 2]\n",
    "print(find_minimum(nums))\n",
    "\n",
    "\n",
    "#Time Complexity O(logn)\n",
    "#Space Complexity O(1)"
   ]
  },
  {
   "cell_type": "code",
   "execution_count": 21,
   "id": "c6a9c773",
   "metadata": {},
   "outputs": [],
   "source": [
    "#Question 8-\n",
    "\n",
    "def find_original_array(changed):\n",
    "    counts = {}\n",
    "    for num in changed:\n",
    "        counts[num] = counts.get(num, 0) + 1\n",
    "    original = []\n",
    "    for num, count in counts.items():\n",
    "        if count == 0:\n",
    "            continue\n",
    "\n",
    "        if counts.get(num, 0) > 0 and counts.get(num * 2, 0) > 0:\n",
    "            original.append(num)\n",
    "            counts[num] -= 1\n",
    "            counts[num * 2] -= 1\n",
    "        else:\n",
    "            return []\n",
    " \n",
    "    return original\n",
    "#Time Complexity O(n)\n",
    "#Space Complexity O(n)"
   ]
  },
  {
   "cell_type": "code",
   "execution_count": 22,
   "id": "040613e2",
   "metadata": {},
   "outputs": [
    {
     "name": "stdout",
     "output_type": "stream",
     "text": [
      "[1, 3, 4]\n"
     ]
    }
   ],
   "source": [
    "changed = [1, 3, 4, 2, 6, 8]\n",
    "print(find_original_array(changed))"
   ]
  }
 ],
 "metadata": {
  "kernelspec": {
   "display_name": "Python 3 (ipykernel)",
   "language": "python",
   "name": "python3"
  },
  "language_info": {
   "codemirror_mode": {
    "name": "ipython",
    "version": 3
   },
   "file_extension": ".py",
   "mimetype": "text/x-python",
   "name": "python",
   "nbconvert_exporter": "python",
   "pygments_lexer": "ipython3",
   "version": "3.9.13"
  }
 },
 "nbformat": 4,
 "nbformat_minor": 5
}
