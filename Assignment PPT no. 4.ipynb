{
 "cells": [
  {
   "cell_type": "code",
   "execution_count": 3,
   "id": "2bf62b55",
   "metadata": {},
   "outputs": [],
   "source": [
    "#Question 1-\n",
    "\n",
    "def findCommonElements(arr1, arr2, arr3):\n",
    "    n1, n2, n3 = len(arr1), len(arr2), len(arr3)\n",
    "    result = []\n",
    "    i, j, k = 0, 0, 0\n",
    "\n",
    "    while i < n1 and j < n2 and k < n3:\n",
    "        if arr1[i] == arr2[j] == arr3[k]:\n",
    "            result.append(arr1[i])\n",
    "            i += 1\n",
    "            j += 1\n",
    "            k += 1\n",
    "        elif arr1[i] < arr2[j]:\n",
    "            i += 1\n",
    "        elif arr2[j] < arr3[k]:\n",
    "            j += 1\n",
    "        else:\n",
    "            k += 1\n",
    "\n",
    "    return result\n",
    "\n",
    "# space complexity O(1)\n",
    "# Time Complexity O(n1 + n2 + n3)\n"
   ]
  },
  {
   "cell_type": "code",
   "execution_count": 4,
   "id": "9ef9fd24",
   "metadata": {},
   "outputs": [],
   "source": [
    "#Question 2-\n",
    "\n",
    "def findDistinctElements(nums1, nums2):\n",
    "    set1 = set(nums1)\n",
    "    set2 = set(nums2)\n",
    "\n",
    "    distinct_nums1 = list(set1 - set2)\n",
    "    distinct_nums2 = list(set2 - set1)\n",
    "\n",
    "    return [distinct_nums1, distinct_nums2]\n",
    "\n",
    "# space complexity O(n1 + n2) \n",
    "# Time Complexity (n)\n"
   ]
  },
  {
   "cell_type": "code",
   "execution_count": 5,
   "id": "c0d4aac0",
   "metadata": {},
   "outputs": [],
   "source": [
    "#Question 3-\n",
    "def transpose(matrix):\n",
    "    rows = len(matrix)\n",
    "    cols = len(matrix[0]) if rows > 0 else 0\n",
    "\n",
    "    # Create a new matrix with transposed dimensions\n",
    "    transposed = [[0 for _ in range(rows)] for _ in range(cols)]\n",
    "\n",
    "    # Transpose the elements\n",
    "    for i in range(rows):\n",
    "        for j in range(cols):\n",
    "            transposed[j][i] = matrix[i][j]\n",
    "\n",
    "    return transposed\n",
    "\n",
    "# space complexity O(m X n) \n",
    "# Time Complexity (m X n)"
   ]
  },
  {
   "cell_type": "code",
   "execution_count": 6,
   "id": "23d69f79",
   "metadata": {},
   "outputs": [],
   "source": [
    "#Question 4-\n",
    "\n",
    "def arrayPairSum(nums):\n",
    "    nums.sort()\n",
    "    max_sum = 0\n",
    "    for i in range(0, len(nums), 2):\n",
    "        max_sum += nums[i]\n",
    "    return max_sum\n",
    "# space complexity O(n1 + n2) \n",
    "# Time Complexity (nlogn)"
   ]
  },
  {
   "cell_type": "code",
   "execution_count": 10,
   "id": "cb39d990",
   "metadata": {},
   "outputs": [],
   "source": [
    "#Question 5-\n",
    "def arrangeCoins(n):\n",
    "    left, right = 0, n\n",
    "    while left <= right:\n",
    "        mid = left + (right - left) // 2\n",
    "        curr_sum = mid * (mid + 1) // 2\n",
    "\n",
    "        if curr_sum == n:\n",
    "            return mid\n",
    "\n",
    "        if curr_sum > n:\n",
    "            right = mid - 1\n",
    "        else:\n",
    "            left = mid + 1\n",
    "\n",
    "    return right\n",
    "\n",
    "# space complexity O(1) \n",
    "# Time Complexity (logn)"
   ]
  },
  {
   "cell_type": "code",
   "execution_count": 7,
   "id": "da6ef88b",
   "metadata": {},
   "outputs": [],
   "source": [
    "#Question 6-\n",
    "def sortedSquares(nums):\n",
    "    n = len(nums)\n",
    "    result = [0] * n\n",
    "    left, right = 0, n - 1\n",
    "    i = n - 1\n",
    "\n",
    "    while left <= right:\n",
    "        if abs(nums[left]) > abs(nums[right]):\n",
    "            result[i] = nums[left] * nums[left]\n",
    "            left += 1\n",
    "        else:\n",
    "            result[i] = nums[right] * nums[right]\n",
    "            right -= 1\n",
    "        i -= 1\n",
    "\n",
    "    return result\n",
    "\n",
    "\n",
    "# space complexity O(n) \n",
    "# Time Complexity (n)"
   ]
  },
  {
   "cell_type": "code",
   "execution_count": 8,
   "id": "bcf08e1d",
   "metadata": {},
   "outputs": [],
   "source": [
    "#Question 7-\n",
    "def maxCount(m, n, ops):\n",
    "    min_row = m\n",
    "    min_col = n\n",
    "\n",
    "    for op in ops:\n",
    "        min_row = min(min_row, op[0])\n",
    "        min_col = min(min_col, op[1])\n",
    "\n",
    "    return min_row * min_col\n",
    "\n",
    "# space complexity O(1) \n",
    "# Time Complexity (k)\n"
   ]
  },
  {
   "cell_type": "code",
   "execution_count": 11,
   "id": "677ed6ae",
   "metadata": {},
   "outputs": [],
   "source": [
    "#Question 8-\n",
    "\n",
    "def shuffle(nums, n):\n",
    "    result = []\n",
    "    for i in range(n):\n",
    "        result.append(nums[i])\n",
    "        result.append(nums[i + n])\n",
    "    return result\n",
    "# space complexity O(n) \n",
    "# Time Complexity (n)"
   ]
  }
 ],
 "metadata": {
  "kernelspec": {
   "display_name": "Python 3 (ipykernel)",
   "language": "python",
   "name": "python3"
  },
  "language_info": {
   "codemirror_mode": {
    "name": "ipython",
    "version": 3
   },
   "file_extension": ".py",
   "mimetype": "text/x-python",
   "name": "python",
   "nbconvert_exporter": "python",
   "pygments_lexer": "ipython3",
   "version": "3.9.13"
  }
 },
 "nbformat": 4,
 "nbformat_minor": 5
}
