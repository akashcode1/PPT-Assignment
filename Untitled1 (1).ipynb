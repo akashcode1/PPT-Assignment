{
 "cells": [
  {
   "cell_type": "markdown",
   "id": "04d2401c",
   "metadata": {},
   "source": [
    "## Question 1-"
   ]
  },
  {
   "cell_type": "code",
   "execution_count": 29,
   "id": "c1ec23ff",
   "metadata": {},
   "outputs": [],
   "source": [
    "def threeSumClosest(nums, target):\n",
    "    nums.sort()\n",
    "    n = len(nums)\n",
    "    closest_sum = float('inf')\n",
    "\n",
    "    for i in range(n - 2):\n",
    "        left = i + 1\n",
    "        right = n - 1\n",
    "\n",
    "        while left < right:\n",
    "            current_sum = nums[i] + nums[left] + nums[right]\n",
    "\n",
    "            if abs(current_sum - target) < abs(closest_sum - target):\n",
    "                closest_sum = current_sum\n",
    "\n",
    "            if current_sum < target:\n",
    "                left += 1\n",
    "            elif current_sum > target:\n",
    "                right -= 1\n",
    "            else:\n",
    "                # If the sum is equal to the target, we have found the exact solution\n",
    "                return closest_sum\n",
    "\n",
    "    return closest_sum\n"
   ]
  },
  {
   "cell_type": "code",
   "execution_count": 30,
   "id": "55b1f437",
   "metadata": {},
   "outputs": [
    {
     "name": "stdout",
     "output_type": "stream",
     "text": [
      "2\n"
     ]
    }
   ],
   "source": [
    "nums = [-1, 2, 1, -4]\n",
    "target = 1\n",
    "\n",
    "print(threeSumClosest(nums, target))"
   ]
  },
  {
   "cell_type": "markdown",
   "id": "f8d6419f",
   "metadata": {},
   "source": [
    "- Time Complexity O(n^2)\n",
    "- Space Complextiy O(1)"
   ]
  },
  {
   "cell_type": "markdown",
   "id": "1969bd8a",
   "metadata": {},
   "source": [
    "## Question 2-"
   ]
  },
  {
   "cell_type": "code",
   "execution_count": 25,
   "id": "94eb5b36",
   "metadata": {},
   "outputs": [],
   "source": [
    "def fourSum(nums, target):\n",
    "    nums.sort()\n",
    "    n = len(nums)\n",
    "    result = []\n",
    "    \n",
    "    for i in range(n - 3):\n",
    "        if i > 0 and nums[i] == nums[i - 1]:\n",
    "            continue\n",
    "        \n",
    "        for j in range(i + 1, n - 2):\n",
    "            if j > i + 1 and nums[j] == nums[j - 1]:\n",
    "                continue\n",
    "            \n",
    "            left = j + 1\n",
    "            right = n - 1\n",
    "            \n",
    "            while left < right:\n",
    "                total = nums[i] + nums[j] + nums[left] + nums[right]\n",
    "                \n",
    "                if total == target:\n",
    "                    result.append([nums[i], nums[j], nums[left], nums[right]])\n",
    "                    left += 1\n",
    "                    right -= 1\n",
    "                    \n",
    "                    while left < right and nums[left] == nums[left - 1]:\n",
    "                        left += 1\n",
    "                    while left < right and nums[right] == nums[right + 1]:\n",
    "                        right -= 1\n",
    "                elif total < target:\n",
    "                    left += 1\n",
    "                else:\n",
    "                    right -= 1\n",
    "    \n",
    "    return result\n"
   ]
  },
  {
   "cell_type": "code",
   "execution_count": 26,
   "id": "990cee7e",
   "metadata": {},
   "outputs": [
    {
     "name": "stdout",
     "output_type": "stream",
     "text": [
      "[[-2, -1, 1, 2], [-2, 0, 0, 2], [-1, 0, 0, 1]]\n"
     ]
    }
   ],
   "source": [
    "nums = [1, 0, -1, 0, -2, 2]\n",
    "target = 0\n",
    "\n",
    "print(fourSum(nums, target))\n"
   ]
  },
  {
   "cell_type": "markdown",
   "id": "38cbee09",
   "metadata": {},
   "source": [
    "- Time Complexity O(n^3)\n",
    "- Space Complextiy O(1)"
   ]
  },
  {
   "cell_type": "markdown",
   "id": "cd58487c",
   "metadata": {},
   "source": [
    "## Question 3-"
   ]
  },
  {
   "cell_type": "code",
   "execution_count": 27,
   "id": "a7e3d771",
   "metadata": {},
   "outputs": [],
   "source": [
    "def nextPermutation(nums):\n",
    "    n = len(nums)\n",
    "    i = n - 2\n",
    "    while i >= 0 and nums[i] >= nums[i + 1]:\n",
    "        i -= 1\n",
    "\n",
    "    if i >= 0:\n",
    "        j = n - 1\n",
    "        while j > i and nums[j] <= nums[i]:\n",
    "            j -= 1\n",
    "        nums[i], nums[j] = nums[j], nums[i]\n",
    "\n",
    "    left = i + 1\n",
    "    right = n - 1\n",
    "    while left < right:\n",
    "        nums[left], nums[right] = nums[right], nums[left]\n",
    "        left += 1\n",
    "        right -= 1\n",
    "\n",
    "    return nums"
   ]
  },
  {
   "cell_type": "code",
   "execution_count": 28,
   "id": "97ebabf9",
   "metadata": {},
   "outputs": [
    {
     "name": "stdout",
     "output_type": "stream",
     "text": [
      "[1, 3, 2]\n"
     ]
    }
   ],
   "source": [
    "nums = [1, 2, 3]\n",
    "print(nextPermutation(nums))"
   ]
  },
  {
   "cell_type": "markdown",
   "id": "a0f49c5e",
   "metadata": {},
   "source": [
    "- Time Complexity O(n)\n",
    "- Space Complextiy O(1)"
   ]
  },
  {
   "cell_type": "markdown",
   "id": "01db834e",
   "metadata": {},
   "source": [
    "## Question 4-"
   ]
  },
  {
   "cell_type": "code",
   "execution_count": 21,
   "id": "14143b05",
   "metadata": {},
   "outputs": [],
   "source": [
    "def searchInsert(nums, target):\n",
    "    left, right = 0, len(nums) - 1\n",
    "    \n",
    "    while left <= right:\n",
    "        mid = left + (right - left) // 2\n",
    "        \n",
    "        if nums[mid] == target:\n",
    "            return mid\n",
    "        elif nums[mid] < target:\n",
    "            left = mid + 1\n",
    "        else:\n",
    "            right = mid - 1\n",
    "    \n",
    "    return left\n"
   ]
  },
  {
   "cell_type": "code",
   "execution_count": 22,
   "id": "842752a2",
   "metadata": {},
   "outputs": [
    {
     "name": "stdout",
     "output_type": "stream",
     "text": [
      "2\n"
     ]
    }
   ],
   "source": [
    "nums = [1, 3, 5, 6]\n",
    "target = 5\n",
    "\n",
    "print(searchInsert(nums, target))\n"
   ]
  },
  {
   "cell_type": "markdown",
   "id": "d966dfc2",
   "metadata": {},
   "source": [
    "- Time Complexity O(logn)\n",
    "- Space Complextiy O(1)"
   ]
  },
  {
   "cell_type": "markdown",
   "id": "1c9aa085",
   "metadata": {},
   "source": [
    "## Question 5-"
   ]
  },
  {
   "cell_type": "code",
   "execution_count": 19,
   "id": "89bb01e5",
   "metadata": {},
   "outputs": [],
   "source": [
    "def plusOne(digits):\n",
    "    n = len(digits)\n",
    "    for i in range(n - 1, -1, -1):\n",
    "        if digits[i] < 9:\n",
    "            digits[i] += 1\n",
    "            return digits\n",
    "        digits[i] = 0\n",
    "    return [1] + digits\n"
   ]
  },
  {
   "cell_type": "code",
   "execution_count": 20,
   "id": "a474e2b2",
   "metadata": {},
   "outputs": [
    {
     "name": "stdout",
     "output_type": "stream",
     "text": [
      "[1, 2, 4]\n"
     ]
    }
   ],
   "source": [
    "digits = [1, 2, 3]\n",
    "print(plusOne(digits))  # Output: [1, 2, 4]"
   ]
  },
  {
   "cell_type": "markdown",
   "id": "250b0e48",
   "metadata": {},
   "source": [
    "\n",
    "- Time Complexity O(n)\n",
    "- Space Complextiy O(1)"
   ]
  },
  {
   "cell_type": "markdown",
   "id": "662470a9",
   "metadata": {},
   "source": [
    "## Question 6-"
   ]
  },
  {
   "cell_type": "code",
   "execution_count": 17,
   "id": "c5a7e268",
   "metadata": {},
   "outputs": [],
   "source": [
    "def findSingleNumber(nums):\n",
    "    result = 0\n",
    "    for num in nums:\n",
    "        result ^= num\n",
    "    return result"
   ]
  },
  {
   "cell_type": "code",
   "execution_count": 18,
   "id": "726a9293",
   "metadata": {},
   "outputs": [
    {
     "name": "stdout",
     "output_type": "stream",
     "text": [
      "1\n"
     ]
    }
   ],
   "source": [
    "nums = [2, 2, 1]\n",
    "print(findSingleNumber(nums))"
   ]
  },
  {
   "cell_type": "markdown",
   "id": "e90eb7e5",
   "metadata": {},
   "source": [
    "\n",
    "- Time Complexity O(n)\n",
    "- Space Complextiy O(1)"
   ]
  },
  {
   "cell_type": "markdown",
   "id": "9462c184",
   "metadata": {},
   "source": [
    "## Question 7-"
   ]
  },
  {
   "cell_type": "code",
   "execution_count": 14,
   "id": "947db1b9",
   "metadata": {},
   "outputs": [],
   "source": [
    "def findRanges(nums, lower, upper):\n",
    "    result = []\n",
    "    prev = lower - 1 \n",
    "    for num in nums + [upper + 1]:\n",
    "        if num == prev + 2:\n",
    "            result.append(str(prev + 1))\n",
    "        elif num > prev + 2: \n",
    "            result.append(str(prev + 1) + \"->\" + str(num - 1))\n",
    "        prev = num\n",
    "\n",
    "    return result"
   ]
  },
  {
   "cell_type": "code",
   "execution_count": 16,
   "id": "6a9fd6a2",
   "metadata": {},
   "outputs": [
    {
     "name": "stdout",
     "output_type": "stream",
     "text": [
      "['2', '4->49', '51->74', '76->99']\n"
     ]
    }
   ],
   "source": [
    "nums = [0, 1, 3, 50, 75]\n",
    "lower = 0\n",
    "upper = 99\n",
    "print(findRanges(nums, lower, upper))"
   ]
  },
  {
   "cell_type": "markdown",
   "id": "89bbb231",
   "metadata": {},
   "source": [
    "\n",
    "- Time Complexity O(n)\n",
    "- Space Complextiy O(1)"
   ]
  },
  {
   "cell_type": "markdown",
   "id": "0730d6f9",
   "metadata": {},
   "source": [
    "## Question 8-"
   ]
  },
  {
   "cell_type": "code",
   "execution_count": 11,
   "id": "8ecff843",
   "metadata": {},
   "outputs": [],
   "source": [
    "def meeting(intervals):\n",
    "    intervals.sort(key=lambda x: x[0])\n",
    "    for i in range(1, len(intervals)):\n",
    "        if intervals[i][0] < intervals[i-1][1]:\n",
    "            return False\n",
    "\n",
    "    return True"
   ]
  },
  {
   "cell_type": "code",
   "execution_count": 12,
   "id": "6aefd62b",
   "metadata": {},
   "outputs": [
    {
     "name": "stdout",
     "output_type": "stream",
     "text": [
      "False\n"
     ]
    }
   ],
   "source": [
    "intervals = [[0, 30], [5, 10], [15, 20]]\n",
    "print(meeting(intervals))"
   ]
  },
  {
   "cell_type": "markdown",
   "id": "963b073c",
   "metadata": {},
   "source": [
    "\n",
    "- Time Complexity O(nLogn)\n",
    "- Space Complextiy O(1)"
   ]
  }
 ],
 "metadata": {
  "kernelspec": {
   "display_name": "Python 3 (ipykernel)",
   "language": "python",
   "name": "python3"
  },
  "language_info": {
   "codemirror_mode": {
    "name": "ipython",
    "version": 3
   },
   "file_extension": ".py",
   "mimetype": "text/x-python",
   "name": "python",
   "nbconvert_exporter": "python",
   "pygments_lexer": "ipython3",
   "version": "3.9.13"
  }
 },
 "nbformat": 4,
 "nbformat_minor": 5
}
