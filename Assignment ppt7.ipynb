{
 "cells": [
  {
   "cell_type": "code",
   "execution_count": 1,
   "id": "9308e52c",
   "metadata": {},
   "outputs": [],
   "source": [
    "#Q1-\n",
    "def isomorphic_strings(s, t):\n",
    "    if len(s) != len(t):\n",
    "        return False\n",
    "\n",
    "    s_to_t = {}\n",
    "    t_to_s = {}\n",
    "\n",
    "    for s_char, t_char in zip(s, t):\n",
    "        if s_char in s_to_t:\n",
    "            if s_to_t[s_char] != t_char:\n",
    "                return False\n",
    "        if t_char in t_to_s:\n",
    "            if t_to_s[t_char] != s_char:\n",
    "                return False\n",
    "        s_to_t[s_char] = t_char\n",
    "        t_to_s[t_char] = s_char\n",
    "\n",
    "    return True\n"
   ]
  },
  {
   "cell_type": "code",
   "execution_count": 2,
   "id": "3b5f523d",
   "metadata": {},
   "outputs": [],
   "source": [
    "#Q2-\n",
    "def is_strobogrammatic(num):\n",
    "    left = 0\n",
    "    right = len(num) - 1\n",
    "\n",
    "    while left <= right:\n",
    "        if num[left] + num[right] not in ['00', '11', '88', '69', '96']:\n",
    "            return False\n",
    "        left += 1\n",
    "        right -= 1\n",
    "\n",
    "    return True\n"
   ]
  },
  {
   "cell_type": "code",
   "execution_count": 3,
   "id": "0a8c1f19",
   "metadata": {},
   "outputs": [],
   "source": [
    "#Q3-\n",
    "def addStrings(num1, num2):\n",
    "    p1 = len(num1) - 1\n",
    "    p2 = len(num2) - 1\n",
    "    carry = 0\n",
    "    result = \"\"\n",
    "\n",
    "    while p1 >= 0 or p2 >= 0 or carry > 0:\n",
    "        x1 = int(num1[p1]) if p1 >= 0 else 0\n",
    "        x2 = int(num2[p2]) if p2 >= 0 else 0\n",
    "\n",
    "        curr_sum = x1 + x2 + carry\n",
    "        curr_digit = curr_sum % 10\n",
    "        carry = curr_sum // 10\n",
    "\n",
    "        result = str(curr_digit) + result\n",
    "\n",
    "        p1 -= 1\n",
    "        p2 -= 1\n",
    "\n",
    "    return result\n"
   ]
  },
  {
   "cell_type": "code",
   "execution_count": 4,
   "id": "3d3dbe84",
   "metadata": {},
   "outputs": [],
   "source": [
    "#Q4-\n",
    "def reverseWords(s):\n",
    "    words = s.split()\n",
    "    reversed_words = [word[::-1] for word in words]\n",
    "    result = ' '.join(reversed_words)\n",
    "    return result\n"
   ]
  },
  {
   "cell_type": "code",
   "execution_count": 5,
   "id": "a548d948",
   "metadata": {},
   "outputs": [],
   "source": [
    "#Q5-\n",
    "def reverseStr(s, k):\n",
    "    chars = list(s)\n",
    "    i = 0\n",
    "\n",
    "    while i < len(chars):\n",
    "        chars[i:i+k] = reversed(chars[i:i+k])\n",
    "        i += 2*k\n",
    "\n",
    "    return ''.join(chars)\n"
   ]
  },
  {
   "cell_type": "code",
   "execution_count": 6,
   "id": "230d9cc5",
   "metadata": {},
   "outputs": [],
   "source": [
    "#Q6-\n",
    "def rotateString(s, goal):\n",
    "    if len(s) != len(goal):\n",
    "        return False\n",
    "\n",
    "    s_concat = s + s\n",
    "\n",
    "    if goal in s_concat:\n",
    "        return True\n",
    "    else:\n",
    "        return False\n"
   ]
  },
  {
   "cell_type": "code",
   "execution_count": 7,
   "id": "757ffde6",
   "metadata": {},
   "outputs": [],
   "source": [
    "#Q7-\n",
    "def process_string(string):\n",
    "    processed = []\n",
    "    for ch in string:\n",
    "        if ch != '#':\n",
    "            processed.append(ch)\n",
    "        elif processed:\n",
    "            processed.pop()\n",
    "    return processed\n",
    "\n",
    "def backspaceCompare(s, t):\n",
    "    s_processed = process_string(s)\n",
    "    t_processed = process_string(t)\n",
    "\n",
    "    return s_processed == t_processed\n"
   ]
  },
  {
   "cell_type": "code",
   "execution_count": 8,
   "id": "e3cc531c",
   "metadata": {},
   "outputs": [],
   "source": [
    "#Q8-\n",
    "def checkStraightLine(coordinates):\n",
    "    if len(coordinates) <= 2:\n",
    "        return True\n",
    "\n",
    "    x1, y1 = coordinates[0]\n",
    "    x2, y2 = coordinates[1]\n",
    "\n",
    "    if x2 - x1 == 0:\n",
    "        vertical = True\n",
    "    else:\n",
    "        vertical = False\n",
    "        slope = (y2 - y1) / (x2 - x1)\n",
    "\n",
    "    for i in range(2, len(coordinates)):\n",
    "        x, y = coordinates[i]\n",
    "        x1, y1 = coordinates[0]\n",
    "\n",
    "        if vertical:\n",
    "            if x != x1:\n",
    "                return False\n",
    "        else:\n",
    "            if (x - x1) == 0 or (y - y1) / (x - x1) != slope:\n",
    "                return False\n",
    "\n",
    "    return True\n"
   ]
  }
 ],
 "metadata": {
  "kernelspec": {
   "display_name": "Python 3 (ipykernel)",
   "language": "python",
   "name": "python3"
  },
  "language_info": {
   "codemirror_mode": {
    "name": "ipython",
    "version": 3
   },
   "file_extension": ".py",
   "mimetype": "text/x-python",
   "name": "python",
   "nbconvert_exporter": "python",
   "pygments_lexer": "ipython3",
   "version": "3.9.13"
  }
 },
 "nbformat": 4,
 "nbformat_minor": 5
}
