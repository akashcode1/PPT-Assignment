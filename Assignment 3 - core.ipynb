{
 "cells": [
  {
   "cell_type": "code",
   "execution_count": null,
   "id": "2a93f4ae-f420-4cc5-8019-f51852809099",
   "metadata": {},
   "outputs": [],
   "source": [
    "# Answer_1\n",
    "For Region A: [10, 15, 12, 8, 14]\n",
    "Mean sales for Region A = (10 + 15 + 12 + 8 + 14) / 5 = 59 / 5 = 11.8\n",
    "\n",
    "For Region B: [18, 20, 16, 22, 25]\n",
    "Mean sales for Region B = (18 + 20 + 16 + 22 + 25) / 5 = 101 / 5 = 20.2"
   ]
  },
  {
   "cell_type": "code",
   "execution_count": null,
   "id": "17f6ca1d-b9bf-420f-bfb6-b1f98714a36e",
   "metadata": {},
   "outputs": [],
   "source": [
    "# Answer_2\n",
    "Survey responses: [4, 5, 2, 3, 5, 4, 3, 2, 4, 5]\n",
    "Mode of the survey responses = 4 and 5 (both appear three times)"
   ]
  },
  {
   "cell_type": "code",
   "execution_count": null,
   "id": "b2cd2cb8-01bf-442f-998f-86616e58c6a6",
   "metadata": {},
   "outputs": [],
   "source": [
    "# Answer_3\n",
    "For Department A: [5000, 6000, 5500, 7000]\n",
    "Median salary for Department A = (5500 + 6000) / 2 = 11500 / 2 = 5750\n",
    "\n",
    "For Department B: [4500, 5500, 5800, 6000, 5200]\n",
    "Median salary for Department B = 5500"
   ]
  },
  {
   "cell_type": "code",
   "execution_count": null,
   "id": "f6c8c914-fc73-49b4-bdf6-4bdee401f6cf",
   "metadata": {},
   "outputs": [],
   "source": [
    "# Answer_4\n",
    "Stock prices: [25.5, 24.8, 26.1, 25.3, 24.9]\n",
    "Range of stock prices = maximum value - minimum value = 26.1 - 24.8 = 1.3"
   ]
  },
  {
   "cell_type": "code",
   "execution_count": null,
   "id": "6a00b033-a0a6-4329-9f27-782fdde3da01",
   "metadata": {},
   "outputs": [],
   "source": [
    "# Answer_5\n",
    "To perform a t-test and determine if there is a significant difference in the mean scores between Group A and Group B, follow these steps:\n",
    "\n",
    "Step 1: State the null hypothesis (H0) and the alternative hypothesis (H1):\n",
    "\n",
    "Null hypothesis (H0): There is no significant difference in the mean scores between Group A and Group B.\n",
    "Alternative hypothesis (H1): There is a significant difference in the mean scores between Group A and Group B.\n",
    "Step 2: Calculate the means and standard deviations for each group:\n",
    "Group A: [85, 90, 92, 88, 91]\n",
    "Mean A = (85 + 90 + 92 + 88 + 91) / 5 = 446 / 5 = 89.2\n",
    "Standard deviation A = sqrt([(85-89.2)^2 + (90-89.2)^2 + (92-89.2)^2 + (88-89.2)^2 + (91-89.2)^2] / 4) = sqrt([17.6 + 0.16 + 6.24 + 2.56 + 2.44] / 4)\n",
    "= sqrt(29 / 4) = sqrt(7.25) = 2.69\n",
    "\n",
    "Group B: [82, 88, 90, 86, 87]\n",
    "Mean B = (82 + 88 + 90 + 86 + 87) / 5 = 433 / 5 = 86.6\n",
    "Standard deviation B = sqrt([(82-86.6)^2 + (88-86.6)^2 + (90-86.6)^2 + (86-86.6)^2 + (87-86.6)^2] / 4) =\n",
    "sqrt([17.96 + 1.44 + 6.76 + 0.16 + 0.16] / 4) = sqrt(26.48 / 4) = sqrt(6.62) = 2.57\n",
    "\n",
    "Step 3: Calculate the pooled standard deviation (Sp):\n",
    "Sp = sqrt(((nA - 1) * (Standard deviation A)^2 + (nB - 1) * (Standard deviation B)^2) / (nA + nB - 2))\n",
    "= sqrt(((4 * (2.69)^2) + (4 * (2.57)^2)) / (5 + 5 - 2))\n",
    "= sqrt((28.88 + 26.36) / 8)\n",
    "= sqrt(55.24 / 8)\n",
    "= sqrt(6.905)\n",
    "= 2.63\n",
    "\n",
    "Step 4: Calculate the t-statistic:\n",
    "t-statistic = (Mean A - Mean B) / (Sp * sqrt(1/nA + 1/nB))\n",
    "= (89.2 - 86.6) / (2.63 * sqrt(1/5 + 1/5))\n",
    "= 2.6 / (2.63 * sqrt(0.4))\n",
    "= 2.6 / (2.63 * 0.632)\n",
    "= 2.6 / 1.663\n",
    "= 1.56\n",
    "\n",
    "Step 5: Determine the degrees of freedom (df) and the critical t-value:\n",
    "Degrees of freedom (df) = nA + nB - 2 = 5 + 5 - 2 = 8\n",
    "Critical t-value depends on the significance level (alpha) and degrees of freedom. Assuming alpha = 0.05, you can obtain the\n",
    "critical t-value from a t-table or using statistical software.\n",
    "\n",
    "Step 6: Compare the calculated t-statistic with the critical t-value:\n",
    "If the absolute value of the calculated t-statistic is greater than the critical t-value, reject the null hypothesis (H0) \n",
    "and conclude that there is a significant difference in the mean scores between Group A and Group B. Otherwise, fail to reject \n",
    "the null hypothesis and conclude that there is no significant difference.\n",
    "\n",
    "Note: Since the critical t-value depends on the significance level and degrees of freedom, please refer to a t-table or use\n",
    "appropriate statistical software to obtain the critical t-value and make the final determination"
   ]
  },
  {
   "cell_type": "code",
   "execution_count": 1,
   "id": "76dfa168-5bc8-439e-9739-97aab07d6fbe",
   "metadata": {},
   "outputs": [
    {
     "name": "stdout",
     "output_type": "stream",
     "text": [
      "Correlation Coefficient: 0.8757511375750132\n"
     ]
    }
   ],
   "source": [
    "# Answer_6\n",
    "import numpy as np\n",
    "\n",
    "# Data\n",
    "advertising_expenditure = np.array([10, 15, 12, 8, 14])\n",
    "sales = np.array([25, 30, 28, 20, 26])\n",
    "\n",
    "# Calculate correlation coefficient\n",
    "correlation_coefficient = np.corrcoef(advertising_expenditure, sales)[0, 1]\n",
    "\n",
    "# Print the correlation coefficient\n",
    "print(\"Correlation Coefficient:\", correlation_coefficient)\n"
   ]
  },
  {
   "cell_type": "code",
   "execution_count": 2,
   "id": "5667331a-9a2d-4e6c-ad51-3389c282dabb",
   "metadata": {},
   "outputs": [
    {
     "name": "stdout",
     "output_type": "stream",
     "text": [
      "Standard Deviation: 7.953949089757174\n"
     ]
    }
   ],
   "source": [
    "# Answer_7\n",
    "import numpy as np\n",
    "\n",
    "# Data\n",
    "heights = np.array([160, 170, 165, 155, 175, 180, 170])\n",
    "\n",
    "# Calculate standard deviation\n",
    "standard_deviation = np.std(heights)\n",
    "\n",
    "# Print the standard deviation\n",
    "print(\"Standard Deviation:\", standard_deviation)\n"
   ]
  },
  {
   "cell_type": "code",
   "execution_count": 3,
   "id": "efea5ecf-141c-499a-aaae-2ba7e13b2066",
   "metadata": {},
   "outputs": [
    {
     "name": "stdout",
     "output_type": "stream",
     "text": [
      "                            OLS Regression Results                            \n",
      "==============================================================================\n",
      "Dep. Variable:                      y   R-squared:                       0.271\n",
      "Model:                            OLS   Adj. R-squared:                  0.125\n",
      "Method:                 Least Squares   F-statistic:                     1.859\n",
      "Date:                Tue, 11 Jul 2023   Prob (F-statistic):              0.231\n",
      "Time:                        22:34:47   Log-Likelihood:                -10.362\n",
      "No. Observations:                   7   AIC:                             24.72\n",
      "Df Residuals:                       5   BIC:                             24.62\n",
      "Df Model:                           1                                         \n",
      "Covariance Type:            nonrobust                                         \n",
      "==============================================================================\n",
      "                 coef    std err          t      P>|t|      [0.025      0.975]\n",
      "------------------------------------------------------------------------------\n",
      "const          8.5957      1.361      6.316      0.001       5.097      12.094\n",
      "x1            -0.4681      0.343     -1.363      0.231      -1.351       0.414\n",
      "==============================================================================\n",
      "Omnibus:                          nan   Durbin-Watson:                   2.414\n",
      "Prob(Omnibus):                    nan   Jarque-Bera (JB):                1.954\n",
      "Skew:                           1.292   Prob(JB):                        0.376\n",
      "Kurtosis:                       3.166   Cond. No.                         12.0\n",
      "==============================================================================\n",
      "\n",
      "Notes:\n",
      "[1] Standard Errors assume that the covariance matrix of the errors is correctly specified.\n"
     ]
    },
    {
     "name": "stderr",
     "output_type": "stream",
     "text": [
      "/opt/conda/lib/python3.10/site-packages/statsmodels/stats/stattools.py:74: ValueWarning: omni_normtest is not valid with less than 8 observations; 7 samples were given.\n",
      "  warn(\"omni_normtest is not valid with less than 8 observations; %i \"\n"
     ]
    }
   ],
   "source": [
    "# Answer_8\n",
    "import numpy as np\n",
    "import statsmodels.api as sm\n",
    "\n",
    "# Data\n",
    "employee_tenure = np.array([2, 3, 5, 4, 6, 2, 4])\n",
    "job_satisfaction = np.array([7, 8, 6, 9, 5, 7, 6])\n",
    "\n",
    "# Add a constant term to the employee tenure\n",
    "X = sm.add_constant(employee_tenure)\n",
    "\n",
    "# Create a linear regression model\n",
    "model = sm.OLS(job_satisfaction, X)\n",
    "\n",
    "# Fit the model to the data\n",
    "results = model.fit()\n",
    "\n",
    "# Print the summary of the regression analysis\n",
    "print(results.summary())\n"
   ]
  },
  {
   "cell_type": "code",
   "execution_count": 4,
   "id": "1ae4cc42-118e-47a3-ab33-9ae806e05522",
   "metadata": {},
   "outputs": [
    {
     "name": "stdout",
     "output_type": "stream",
     "text": [
      "F-value: 16.0\n",
      "p-value: 0.003949772803445326\n"
     ]
    }
   ],
   "source": [
    "# Answer_9\n",
    "from scipy import stats\n",
    "\n",
    "# Data\n",
    "medication_a = [10, 12, 14, 11, 13]\n",
    "medication_b = [15, 17, 16, 14, 18]\n",
    "\n",
    "# Perform ANOVA\n",
    "f_value, p_value = stats.f_oneway(medication_a, medication_b)\n",
    "\n",
    "# Print the results\n",
    "print(\"F-value:\", f_value)\n",
    "print(\"p-value:\", p_value)\n"
   ]
  },
  {
   "cell_type": "code",
   "execution_count": 5,
   "id": "dce8fd79-904a-4daf-854e-bde0863f5ea4",
   "metadata": {},
   "outputs": [
    {
     "name": "stdout",
     "output_type": "stream",
     "text": [
      "75th Percentile: 8.75\n"
     ]
    }
   ],
   "source": [
    "# Answer_10\n",
    "import numpy as np\n",
    "\n",
    "# Data\n",
    "feedback_ratings = np.array([8, 9, 7, 6, 8, 10, 9, 8, 7, 8])\n",
    "\n",
    "# Calculate the 75th percentile\n",
    "percentile_75 = np.percentile(feedback_ratings, 75)\n",
    "\n",
    "# Print the 75th percentile\n",
    "print(\"75th Percentile:\", percentile_75)\n"
   ]
  },
  {
   "cell_type": "code",
   "execution_count": 8,
   "id": "0860de74-27cf-4204-bbce-72d0ac87c900",
   "metadata": {},
   "outputs": [
    {
     "name": "stdout",
     "output_type": "stream",
     "text": [
      "T-statistic: 1.5126584522688367\n",
      "p-value: 0.19077595151110102\n"
     ]
    }
   ],
   "source": [
    "# Answer_11\n",
    "\n",
    "# Data\n",
    "weights = [10.2, 9.8, 10.0, 10.5, 10.3, 10.1]\n",
    "population_mean = 10\n",
    "\n",
    "# Perform one-sample t-test\n",
    "t_statistic, p_value = stats.ttest_1samp(weights, population_mean)\n",
    "\n",
    "# Print the results\n",
    "print(\"T-statistic:\", t_statistic)\n",
    "print(\"p-value:\", p_value)\n"
   ]
  },
  {
   "cell_type": "code",
   "execution_count": 9,
   "id": "f6d46f9d-d935-470a-bada-59666928adec",
   "metadata": {},
   "outputs": [
    {
     "name": "stdout",
     "output_type": "stream",
     "text": [
      "Chi-square statistic: 6.110658166925435\n",
      "p-value: 0.19103526314060293\n"
     ]
    }
   ],
   "source": [
    "# Answer_12\n",
    "\n",
    "\n",
    "# Data\n",
    "design_a = np.array([100, 120, 110, 90, 95])\n",
    "design_b = np.array([80, 85, 90, 95, 100])\n",
    "\n",
    "# Create the contingency table\n",
    "contingency_table = np.array([design_a, design_b])\n",
    "\n",
    "# Perform chi-square test\n",
    "chi2, p_value, _, _ = chi2_contingency(contingency_table)\n",
    "\n",
    "# Print the results\n",
    "print(\"Chi-square statistic:\", chi2)\n",
    "print(\"p-value:\", p_value)\n"
   ]
  },
  {
   "cell_type": "code",
   "execution_count": 12,
   "id": "464e1dbd-f9ef-4eca-a8e6-0262d65e0579",
   "metadata": {},
   "outputs": [
    {
     "name": "stdout",
     "output_type": "stream",
     "text": [
      "95% Confidence Interval: (7.043561120599888, 8.756438879400113)\n"
     ]
    }
   ],
   "source": [
    "# Answer_13\n",
    "from scipy.stats import t\n",
    "\n",
    "# Data\n",
    "satisfaction_scores = np.array([7, 9, 6, 8, 10, 7, 8, 9, 7, 8])\n",
    "\n",
    "# Calculate the mean and standard deviation\n",
    "sample_mean = np.mean(satisfaction_scores)\n",
    "sample_std = np.std(satisfaction_scores, ddof=1)  # ddof=1 for sample standard deviation\n",
    "\n",
    "# Calculate the sample size\n",
    "sample_size = len(satisfaction_scores)\n",
    "\n",
    "# Calculate the standard error\n",
    "standard_error = sample_std / np.sqrt(sample_size)\n",
    "\n",
    "# Calculate the degrees of freedom\n",
    "degrees_of_freedom = sample_size - 1\n",
    "\n",
    "# Calculate the t-value for a 95% confidence level\n",
    "t_value = t.ppf(0.975, df=degrees_of_freedom)\n",
    "\n",
    "# Calculate the margin of error\n",
    "margin_of_error = t_value * standard_error\n",
    "\n",
    "# Calculate the confidence interval\n",
    "confidence_interval = (sample_mean - margin_of_error, sample_mean + margin_of_error)\n",
    "\n",
    "# Print the confidence interval\n",
    "print(\"95% Confidence Interval:\", confidence_interval)\n"
   ]
  },
  {
   "cell_type": "code",
   "execution_count": 14,
   "id": "db682a8a-4992-4dee-8b80-4e7c9c4e67bd",
   "metadata": {},
   "outputs": [
    {
     "name": "stdout",
     "output_type": "stream",
     "text": [
      "95% Confidence Interval: (7.043561120599888, 8.756438879400113)\n"
     ]
    }
   ],
   "source": [
    "# Answer_14\n",
    "\n",
    "# Data\n",
    "satisfaction_scores = np.array([7, 9, 6, 8, 10, 7, 8, 9, 7, 8])\n",
    "\n",
    "# Calculate the mean and standard deviation\n",
    "sample_mean = np.mean(satisfaction_scores)\n",
    "sample_std = np.std(satisfaction_scores, ddof=1)  # ddof=1 for sample standard deviation\n",
    "\n",
    "# Calculate the sample size\n",
    "sample_size = len(satisfaction_scores)\n",
    "\n",
    "# Calculate the standard error\n",
    "standard_error = sample_std / np.sqrt(sample_size)\n",
    "\n",
    "# Calculate the degrees of freedom\n",
    "degrees_of_freedom = sample_size - 1\n",
    "\n",
    "# Calculate the t-value for a 95% confidence level\n",
    "t_value = t.ppf(0.975, df=degrees_of_freedom)\n",
    "\n",
    "# Calculate the margin of error\n",
    "margin_of_error = t_value * standard_error\n",
    "\n",
    "# Calculate the confidence interval\n",
    "confidence_interval = (sample_mean - margin_of_error, sample_mean + margin_of_error)\n",
    "\n",
    "# Print the confidence interval\n",
    "print(\"95% Confidence Interval:\", confidence_interval)\n"
   ]
  },
  {
   "cell_type": "code",
   "execution_count": 15,
   "id": "bc9d577f-2954-48d7-abf2-7b78ca8c1253",
   "metadata": {},
   "outputs": [
    {
     "name": "stdout",
     "output_type": "stream",
     "text": [
      "                            OLS Regression Results                            \n",
      "==============================================================================\n",
      "Dep. Variable:                      y   R-squared:                       0.481\n",
      "Model:                            OLS   Adj. R-squared:                  0.308\n",
      "Method:                 Least Squares   F-statistic:                     2.778\n",
      "Date:                Tue, 11 Jul 2023   Prob (F-statistic):              0.194\n",
      "Time:                        22:40:51   Log-Likelihood:                -5.5542\n",
      "No. Observations:                   5   AIC:                             15.11\n",
      "Df Residuals:                       3   BIC:                             14.33\n",
      "Df Model:                           1                                         \n",
      "Covariance Type:            nonrobust                                         \n",
      "==============================================================================\n",
      "                 coef    std err          t      P>|t|      [0.025      0.975]\n",
      "------------------------------------------------------------------------------\n",
      "const         -2.9000      6.314     -0.459      0.677     -22.995      17.195\n",
      "x1             0.5000      0.300      1.667      0.194      -0.455       1.455\n",
      "==============================================================================\n",
      "Omnibus:                          nan   Durbin-Watson:                   3.056\n",
      "Prob(Omnibus):                    nan   Jarque-Bera (JB):                0.522\n",
      "Skew:                          -0.348   Prob(JB):                        0.770\n",
      "Kurtosis:                       1.578   Cond. No.                         314.\n",
      "==============================================================================\n",
      "\n",
      "Notes:\n",
      "[1] Standard Errors assume that the covariance matrix of the errors is correctly specified.\n"
     ]
    },
    {
     "name": "stderr",
     "output_type": "stream",
     "text": [
      "/opt/conda/lib/python3.10/site-packages/statsmodels/stats/stattools.py:74: ValueWarning: omni_normtest is not valid with less than 8 observations; 5 samples were given.\n",
      "  warn(\"omni_normtest is not valid with less than 8 observations; %i \"\n"
     ]
    }
   ],
   "source": [
    "# Answer_15\n",
    "import statsmodels.api as sm\n",
    "\n",
    "# Data\n",
    "temperature = np.array([20, 22, 23, 19, 21])\n",
    "performance = np.array([8, 7, 9, 6, 8])\n",
    "\n",
    "# Add a constant term to the temperature\n",
    "X = sm.add_constant(temperature)\n",
    "\n",
    "# Create a linear regression model\n",
    "model = sm.OLS(performance, X)\n",
    "\n",
    "# Fit the model to the data\n",
    "results = model.fit()\n",
    "\n",
    "# Print the summary of the regression analysis\n",
    "print(results.summary())\n"
   ]
  },
  {
   "cell_type": "code",
   "execution_count": 17,
   "id": "6296fe17-8b9d-477b-98fa-f9494ff34959",
   "metadata": {},
   "outputs": [
    {
     "name": "stdout",
     "output_type": "stream",
     "text": [
      "Mann-Whitney U statistic: 17.0\n",
      "p-value: 0.380836480306712\n"
     ]
    }
   ],
   "source": [
    "# Answer_16\n",
    "from scipy.stats import mannwhitneyu\n",
    "\n",
    "# Data\n",
    "group_a = np.array([4, 3, 5, 2, 4])\n",
    "group_b = np.array([3, 2, 4, 3, 3])\n",
    "\n",
    "# Perform Mann-Whitney U test\n",
    "statistic, p_value = mannwhitneyu(group_a, group_b)\n",
    "\n",
    "# Print the results\n",
    "print(\"Mann-Whitney U statistic:\", statistic)\n",
    "print(\"p-value:\", p_value)\n"
   ]
  },
  {
   "cell_type": "code",
   "execution_count": 18,
   "id": "deddcbc9-6ae7-419c-b9ee-b65865be7177",
   "metadata": {},
   "outputs": [
    {
     "name": "stdout",
     "output_type": "stream",
     "text": [
      "Interquartile Range (IQR): 22.5\n"
     ]
    }
   ],
   "source": [
    "# Answer_17\n",
    "# Data\n",
    "ages = np.array([25, 30, 35, 40, 45, 50, 55, 60, 65, 70])\n",
    "\n",
    "# Calculate the 75th and 25th percentiles\n",
    "q3 = np.percentile(ages, 75)\n",
    "q1 = np.percentile(ages, 25)\n",
    "\n",
    "# Calculate the interquartile range (IQR)\n",
    "iqr = q3 - q1\n",
    "\n",
    "# Print the interquartile range\n",
    "print(\"Interquartile Range (IQR):\", iqr)\n"
   ]
  },
  {
   "cell_type": "code",
   "execution_count": 19,
   "id": "a69242d4-6366-4055-81b6-bd25c952889f",
   "metadata": {},
   "outputs": [
    {
     "name": "stdout",
     "output_type": "stream",
     "text": [
      "Kruskal-Wallis statistic: 9.696947935368053\n",
      "p-value: 0.007840333026249539\n"
     ]
    }
   ],
   "source": [
    "# Answer_18\n",
    "from scipy.stats import kruskal\n",
    "\n",
    "# Data\n",
    "algorithm_a = np.array([0.85, 0.80, 0.82, 0.87, 0.83])\n",
    "algorithm_b = np.array([0.78, 0.82, 0.84, 0.80, 0.79])\n",
    "algorithm_c = np.array([0.90, 0.88, 0.89, 0.86, 0.87])\n",
    "\n",
    "# Perform Kruskal-Wallis test\n",
    "statistic, p_value = kruskal(algorithm_a, algorithm_b, algorithm_c)\n",
    "\n",
    "# Print the results\n",
    "print(\"Kruskal-Wallis statistic:\", statistic)\n",
    "print(\"p-value:\", p_value)\n"
   ]
  },
  {
   "cell_type": "code",
   "execution_count": 20,
   "id": "8d1b494b-aa39-45a4-95e7-4d58359e46a5",
   "metadata": {},
   "outputs": [
    {
     "name": "stdout",
     "output_type": "stream",
     "text": [
      "                            OLS Regression Results                            \n",
      "==============================================================================\n",
      "Dep. Variable:                      y   R-squared:                       0.806\n",
      "Model:                            OLS   Adj. R-squared:                  0.742\n",
      "Method:                 Least Squares   F-statistic:                     12.50\n",
      "Date:                Tue, 11 Jul 2023   Prob (F-statistic):             0.0385\n",
      "Time:                        22:43:35   Log-Likelihood:                -14.503\n",
      "No. Observations:                   5   AIC:                             33.01\n",
      "Df Residuals:                       3   BIC:                             32.22\n",
      "Df Model:                           1                                         \n",
      "Covariance Type:            nonrobust                                         \n",
      "==============================================================================\n",
      "                 coef    std err          t      P>|t|      [0.025      0.975]\n",
      "------------------------------------------------------------------------------\n",
      "const        136.3720     11.976     11.387      0.001      98.259     174.485\n",
      "x1            -3.5061      0.992     -3.535      0.039      -6.663      -0.350\n",
      "==============================================================================\n",
      "Omnibus:                          nan   Durbin-Watson:                   0.811\n",
      "Prob(Omnibus):                    nan   Jarque-Bera (JB):                0.632\n",
      "Skew:                           0.770   Prob(JB):                        0.729\n",
      "Kurtosis:                       2.186   Cond. No.                         57.3\n",
      "==============================================================================\n",
      "\n",
      "Notes:\n",
      "[1] Standard Errors assume that the covariance matrix of the errors is correctly specified.\n"
     ]
    },
    {
     "name": "stderr",
     "output_type": "stream",
     "text": [
      "/opt/conda/lib/python3.10/site-packages/statsmodels/stats/stattools.py:74: ValueWarning: omni_normtest is not valid with less than 8 observations; 5 samples were given.\n",
      "  warn(\"omni_normtest is not valid with less than 8 observations; %i \"\n"
     ]
    }
   ],
   "source": [
    "# Answer_18\n",
    "\n",
    "# Data\n",
    "price = np.array([10, 15, 12, 8, 14])\n",
    "sales = np.array([100, 80, 90, 110, 95])\n",
    "\n",
    "# Add a constant term to the price\n",
    "X = sm.add_constant(price)\n",
    "\n",
    "# Create a linear regression model\n",
    "model = sm.OLS(sales, X)\n",
    "\n",
    "# Fit the model to the data\n",
    "results = model.fit()\n",
    "\n",
    "# Print the summary of the regression analysis\n",
    "print(results.summary())\n"
   ]
  },
  {
   "cell_type": "code",
   "execution_count": 21,
   "id": "624bfb94-4a13-495a-aefa-1ea8ffef4474",
   "metadata": {},
   "outputs": [
    {
     "name": "stdout",
     "output_type": "stream",
     "text": [
      "Standard Error of the Mean: 0.30550504633038933\n"
     ]
    }
   ],
   "source": [
    "# Answer_19\n",
    "\n",
    "# Data\n",
    "satisfaction_scores = np.array([7, 8, 9, 6, 8, 7, 9, 7, 8, 7])\n",
    "\n",
    "# Calculate the standard deviation\n",
    "standard_deviation = np.std(satisfaction_scores, ddof=1)\n",
    "\n",
    "# Calculate the standard error of the mean\n",
    "standard_error = standard_deviation / np.sqrt(len(satisfaction_scores))\n",
    "\n",
    "# Print the standard error\n",
    "print(\"Standard Error of the Mean:\", standard_error)\n"
   ]
  },
  {
   "cell_type": "code",
   "execution_count": 22,
   "id": "d008fb8b-4fa8-4afb-b380-c3589cf97778",
   "metadata": {},
   "outputs": [
    {
     "name": "stdout",
     "output_type": "stream",
     "text": [
      "                            OLS Regression Results                            \n",
      "==============================================================================\n",
      "Dep. Variable:                      y   R-squared:                       0.767\n",
      "Model:                            OLS   Adj. R-squared:                  0.689\n",
      "Method:                 Least Squares   F-statistic:                     9.872\n",
      "Date:                Tue, 11 Jul 2023   Prob (F-statistic):             0.0516\n",
      "Time:                        22:44:55   Log-Likelihood:                -9.5288\n",
      "No. Observations:                   5   AIC:                             23.06\n",
      "Df Residuals:                       3   BIC:                             22.28\n",
      "Df Model:                           1                                         \n",
      "Covariance Type:            nonrobust                                         \n",
      "==============================================================================\n",
      "                 coef    std err          t      P>|t|      [0.025      0.975]\n",
      "------------------------------------------------------------------------------\n",
      "const         12.2012      4.429      2.755      0.070      -1.893      26.296\n",
      "x1             1.1524      0.367      3.142      0.052      -0.015       2.320\n",
      "==============================================================================\n",
      "Omnibus:                          nan   Durbin-Watson:                   1.136\n",
      "Prob(Omnibus):                    nan   Jarque-Bera (JB):                0.546\n",
      "Skew:                          -0.267   Prob(JB):                        0.761\n",
      "Kurtosis:                       1.471   Cond. No.                         57.3\n",
      "==============================================================================\n",
      "\n",
      "Notes:\n",
      "[1] Standard Errors assume that the covariance matrix of the errors is correctly specified.\n"
     ]
    },
    {
     "name": "stderr",
     "output_type": "stream",
     "text": [
      "/opt/conda/lib/python3.10/site-packages/statsmodels/stats/stattools.py:74: ValueWarning: omni_normtest is not valid with less than 8 observations; 5 samples were given.\n",
      "  warn(\"omni_normtest is not valid with less than 8 observations; %i \"\n"
     ]
    }
   ],
   "source": [
    "# Answer_\n",
    "\n",
    "# Data\n",
    "advertising_expenditure = np.array([10, 15, 12, 8, 14])\n",
    "sales = np.array([25, 30, 28, 20, 26])\n",
    "\n",
    "# Add a constant term to the advertising expenditure\n",
    "X = sm.add_constant(advertising_expenditure)\n",
    "\n",
    "# Create a multiple regression model\n",
    "model = sm.OLS(sales, X)\n",
    "\n",
    "# Fit the model to the data\n",
    "results = model.fit()\n",
    "\n",
    "# Print the summary of the regression analysis\n",
    "print(results.summary())\n"
   ]
  },
  {
   "cell_type": "code",
   "execution_count": null,
   "id": "50cf7c6f-3b81-4b95-9e6a-51ecf0e699c1",
   "metadata": {},
   "outputs": [],
   "source": []
  }
 ],
 "metadata": {
  "kernelspec": {
   "display_name": "Python 3 (ipykernel)",
   "language": "python",
   "name": "python3"
  },
  "language_info": {
   "codemirror_mode": {
    "name": "ipython",
    "version": 3
   },
   "file_extension": ".py",
   "mimetype": "text/x-python",
   "name": "python",
   "nbconvert_exporter": "python",
   "pygments_lexer": "ipython3",
   "version": "3.10.6"
  }
 },
 "nbformat": 4,
 "nbformat_minor": 5
}
