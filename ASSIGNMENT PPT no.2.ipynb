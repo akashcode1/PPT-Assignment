{
 "cells": [
  {
   "cell_type": "markdown",
   "id": "d4711e46",
   "metadata": {},
   "source": [
    "## Question 1-"
   ]
  },
  {
   "cell_type": "code",
   "execution_count": 7,
   "id": "18618fce",
   "metadata": {},
   "outputs": [
    {
     "name": "stdout",
     "output_type": "stream",
     "text": [
      "4\n"
     ]
    }
   ],
   "source": [
    "nums = [1,4,3,2]\n",
    "nums.sort()\n",
    "pair_sum = 0\n",
    "for i in range(0, len(nums), 2):\n",
    "    pair_sum += min(nums[i], nums[i+1])\n",
    "print(pair_sum)"
   ]
  },
  {
   "cell_type": "markdown",
   "id": "be6ae781",
   "metadata": {},
   "source": [
    "- Time Complexity O(n log n)\n",
    "- Space Complexity O(1)"
   ]
  },
  {
   "cell_type": "markdown",
   "id": "f926ca6b",
   "metadata": {},
   "source": [
    "## Question 2-"
   ]
  },
  {
   "cell_type": "code",
   "execution_count": 7,
   "id": "fc5b41bd",
   "metadata": {},
   "outputs": [],
   "source": [
    "def max_num_types_of_candies(candyType):\n",
    "    max_num = min(len(candyType) // 2, len(set(candyType)))\n",
    "    return max_num"
   ]
  },
  {
   "cell_type": "code",
   "execution_count": 8,
   "id": "4811eac7",
   "metadata": {},
   "outputs": [
    {
     "name": "stdout",
     "output_type": "stream",
     "text": [
      "3\n"
     ]
    }
   ],
   "source": [
    "candyType1 = [1, 1, 2, 2, 3, 3]\n",
    "print(max_num_types_of_candies(candyType1)) \n"
   ]
  },
  {
   "cell_type": "markdown",
   "id": "daec3f76",
   "metadata": {},
   "source": [
    "- Time Complexity O(n)\n",
    "- Space Complexity O(K)"
   ]
  },
  {
   "cell_type": "markdown",
   "id": "11a4fb7e",
   "metadata": {},
   "source": [
    "## Question 3-"
   ]
  },
  {
   "cell_type": "code",
   "execution_count": 9,
   "id": "42e5ce87",
   "metadata": {},
   "outputs": [],
   "source": [
    "def findLHS(nums):\n",
    "    num_freq = {} \n",
    "    for num in nums:\n",
    "        num_freq[num] = num_freq.get(num, 0) + 1\n",
    "    max_length = 0\n",
    "    for num in num_freq:\n",
    "        if num + 1 in num_freq:\n",
    "            max_length = max(max_length, num_freq[num] + num_freq[num + 1])\n",
    "    return max_length"
   ]
  },
  {
   "cell_type": "code",
   "execution_count": 10,
   "id": "6f2a8f5f",
   "metadata": {},
   "outputs": [
    {
     "name": "stdout",
     "output_type": "stream",
     "text": [
      "5\n"
     ]
    }
   ],
   "source": [
    "nums1 = [1, 3, 2, 2, 5, 2, 3, 7]\n",
    "print(findLHS(nums1))  # Output: 5"
   ]
  },
  {
   "cell_type": "markdown",
   "id": "f7def224",
   "metadata": {},
   "source": [
    "- Time Complexity O(n)\n",
    "- Space Complexity O(K)"
   ]
  },
  {
   "cell_type": "markdown",
   "id": "e496ac5a",
   "metadata": {},
   "source": [
    "## Question 4-"
   ]
  },
  {
   "cell_type": "code",
   "execution_count": 11,
   "id": "81c50e2c",
   "metadata": {},
   "outputs": [],
   "source": [
    "def can_place_flowers(flowerbed, n):\n",
    "    count = 0\n",
    "    i = 0\n",
    "    while i < len(flowerbed):\n",
    "        if flowerbed[i] == 0 and (i == 0 or flowerbed[i-1] == 0) and (i == len(flowerbed)-1 or flowerbed[i+1] == 0):\n",
    "            flowerbed[i] = 1\n",
    "            count += 1\n",
    "            if count >= n:\n",
    "                return True\n",
    "        i += 1\n",
    "\n",
    "    return False"
   ]
  },
  {
   "cell_type": "code",
   "execution_count": 12,
   "id": "ca63c8de",
   "metadata": {},
   "outputs": [
    {
     "name": "stdout",
     "output_type": "stream",
     "text": [
      "True\n"
     ]
    }
   ],
   "source": [
    "flowerbed1 = [1, 0, 0, 0, 1]\n",
    "n1 = 1\n",
    "print(can_place_flowers(flowerbed1, n1))  # Output: True"
   ]
  },
  {
   "cell_type": "markdown",
   "id": "a876ad7f",
   "metadata": {},
   "source": [
    "- Time complexity: O(m) \n",
    "- Space complexity: O(1)"
   ]
  },
  {
   "cell_type": "markdown",
   "id": "ee5f3da7",
   "metadata": {},
   "source": [
    "## Question 5-\n"
   ]
  },
  {
   "cell_type": "code",
   "execution_count": 13,
   "id": "ae3b296b",
   "metadata": {},
   "outputs": [],
   "source": [
    "def maximum_product(nums):\n",
    "    nums.sort()\n",
    "    n = len(nums)\n",
    "    return max(nums[-1] * nums[-2] * nums[-3], nums[0] * nums[1] * nums[-1])"
   ]
  },
  {
   "cell_type": "code",
   "execution_count": 14,
   "id": "9d24d5e7",
   "metadata": {},
   "outputs": [
    {
     "name": "stdout",
     "output_type": "stream",
     "text": [
      "6\n"
     ]
    }
   ],
   "source": [
    "\n",
    "nums1 = [1, 2, 3]\n",
    "print(maximum_product(nums1))  # Output: 6\n"
   ]
  },
  {
   "cell_type": "markdown",
   "id": "a7a720fc",
   "metadata": {},
   "source": [
    "- Time complexity: O(n log n)\n",
    "- Space complexity: O(1)"
   ]
  },
  {
   "cell_type": "markdown",
   "id": "a4b1031b",
   "metadata": {},
   "source": [
    "## Question 6-\n"
   ]
  },
  {
   "cell_type": "code",
   "execution_count": 15,
   "id": "8f0be8ef",
   "metadata": {},
   "outputs": [],
   "source": [
    "def search(nums, target):\n",
    "    left = 0\n",
    "    right = len(nums) - 1\n",
    "\n",
    "    while left <= right:\n",
    "        mid = left + (right - left) // 2\n",
    "\n",
    "        if nums[mid] == target:\n",
    "            return mid\n",
    "        elif nums[mid] < target:\n",
    "            left = mid + 1\n",
    "        else:\n",
    "            right = mid - 1\n",
    "\n",
    "    return -1"
   ]
  },
  {
   "cell_type": "code",
   "execution_count": 17,
   "id": "b23835a7",
   "metadata": {},
   "outputs": [
    {
     "name": "stdout",
     "output_type": "stream",
     "text": [
      "4\n"
     ]
    }
   ],
   "source": [
    "nums = [-1, 0, 3, 5, 9, 12]\n",
    "target = 9\n",
    "print(search(nums, target))  "
   ]
  },
  {
   "cell_type": "markdown",
   "id": "d746c2b8",
   "metadata": {},
   "source": [
    "- Time complexity: O(log n)\n",
    "- Space complexity: O(1)"
   ]
  },
  {
   "cell_type": "markdown",
   "id": "ac1be05a",
   "metadata": {},
   "source": [
    "## Question 7-"
   ]
  },
  {
   "cell_type": "code",
   "execution_count": 18,
   "id": "7f40d805",
   "metadata": {},
   "outputs": [],
   "source": [
    "def is_monotonic(nums):\n",
    "    n = len(nums)\n",
    "    increasing = decreasing = True\n",
    "\n",
    "    for i in range(1, n):\n",
    "        if nums[i] < nums[i-1]:\n",
    "            increasing = False\n",
    "        if nums[i] > nums[i-1]:\n",
    "            decreasing = False\n",
    "\n",
    "    return increasing or decreasing"
   ]
  },
  {
   "cell_type": "code",
   "execution_count": 19,
   "id": "1030a1bb",
   "metadata": {},
   "outputs": [
    {
     "name": "stdout",
     "output_type": "stream",
     "text": [
      "True\n"
     ]
    }
   ],
   "source": [
    "nums1 = [1, 2, 2, 3]\n",
    "print(is_monotonic(nums1)) "
   ]
  },
  {
   "cell_type": "markdown",
   "id": "559418b8",
   "metadata": {},
   "source": [
    "- Time complexity: O(n)\n",
    "- Space complexity: O(1)"
   ]
  },
  {
   "cell_type": "markdown",
   "id": "4c0217cc",
   "metadata": {},
   "source": [
    "## Question 8-"
   ]
  },
  {
   "cell_type": "code",
   "execution_count": 21,
   "id": "dd9ecfcf",
   "metadata": {},
   "outputs": [],
   "source": [
    "def minimum_score(nums, k):\n",
    "    minimum = min(nums)\n",
    "    maximum = max(nums)\n",
    "    \n",
    "    if maximum - minimum <= 2 * k:\n",
    "        return 0\n",
    "    \n",
    "    new_minimum = minimum + k\n",
    "    new_maximum = maximum - k\n",
    "    \n",
    "    return new_maximum - new_minimum"
   ]
  },
  {
   "cell_type": "code",
   "execution_count": 22,
   "id": "1bf39e16",
   "metadata": {},
   "outputs": [
    {
     "name": "stdout",
     "output_type": "stream",
     "text": [
      "0\n"
     ]
    }
   ],
   "source": [
    "nums = [1]\n",
    "k = 0\n",
    "print(minimum_score(nums, k))"
   ]
  },
  {
   "cell_type": "markdown",
   "id": "fdf3458f",
   "metadata": {},
   "source": [
    "- Time complexity: O(n)\n",
    "- Space complexity: O(1)"
   ]
  }
 ],
 "metadata": {
  "kernelspec": {
   "display_name": "Python 3 (ipykernel)",
   "language": "python",
   "name": "python3"
  },
  "language_info": {
   "codemirror_mode": {
    "name": "ipython",
    "version": 3
   },
   "file_extension": ".py",
   "mimetype": "text/x-python",
   "name": "python",
   "nbconvert_exporter": "python",
   "pygments_lexer": "ipython3",
   "version": "3.9.13"
  }
 },
 "nbformat": 4,
 "nbformat_minor": 5
}
